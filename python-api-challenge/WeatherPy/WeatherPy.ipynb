{
 "cells": [
  {
   "cell_type": "markdown",
   "metadata": {},
   "source": [
    "# WeatherPy\n",
    "----\n",
    "\n",
    "#### Note\n",
    "* Instructions have been included for each segment. You do not have to follow them exactly, but they are included to help you think through the steps."
   ]
  },
  {
   "cell_type": "code",
   "execution_count": 19,
   "metadata": {
    "scrolled": true
   },
   "outputs": [],
   "source": [
    "# Dependencies and Setup\n",
    "import matplotlib.pyplot as plt\n",
    "import pandas as pd\n",
    "import numpy as np\n",
    "import requests\n",
    "import time\n",
    "\n",
    "# Import API key\n",
    "api_key= 'f9b3de9264d1831a780da2e78d455112'\n",
    "\n",
    "# Incorporated citipy to determine city based on latitude and longitude\n",
    "from citipy import citipy\n",
    "\n",
    "# Output File (CSV)\n",
    "output_data_file = \"output_data/cities.csv\"\n",
    "\n",
    "# Range of latitudes and longitudes\n",
    "lat_range = (-90, 90)\n",
    "lng_range = (-180, 180)"
   ]
  },
  {
   "cell_type": "markdown",
   "metadata": {},
   "source": [
    "## Generate Cities List"
   ]
  },
  {
   "cell_type": "code",
   "execution_count": 20,
   "metadata": {},
   "outputs": [
    {
     "data": {
      "text/plain": [
       "626"
      ]
     },
     "execution_count": 20,
     "metadata": {},
     "output_type": "execute_result"
    }
   ],
   "source": [
    "# List for holding lat_lngs and cities\n",
    "lat_lngs = []\n",
    "cities = []\n",
    "\n",
    "# Create a set of random lat and lng combinations\n",
    "lats = np.random.uniform(low=-90.000, high=90.000, size=1500)\n",
    "lngs = np.random.uniform(low=-180.000, high=180.000, size=1500)\n",
    "lat_lngs = zip(lats, lngs)\n",
    "\n",
    "# Identify nearest city for each lat, lng combination\n",
    "for lat_lng in lat_lngs:\n",
    "    city = citipy.nearest_city(lat_lng[0], lat_lng[1]).city_name\n",
    "    \n",
    "    # If the city is unique, then add it to a our cities list\n",
    "    if city not in cities:\n",
    "        cities.append(city)\n",
    "\n",
    "# Print the city count to confirm sufficient count\n",
    "len(cities)\n"
   ]
  },
  {
   "cell_type": "code",
   "execution_count": 21,
   "metadata": {},
   "outputs": [
    {
     "name": "stdout",
     "output_type": "stream",
     "text": [
      "['atuona', 'dikson', 'brainerd', 'tuktoyaktuk', 'avera', 'provideniya', 'upernavik', 'grand gaube', 'yellowknife', 'rikitea', 'ribeira grande', 'taolanaro', 'chokurdakh', 'ushuaia', 'ketchikan', 'ust-kamchatsk', 'lebu', 'san francisco', 'ixtapa', 'tiznit', 'sobolevo', 'busselton', 'imbituba', 'eldikan', 'punta arenas', 'vung tau', 'faanui', 'saint-philippe', 'banepa', 'mar del plata', 'bathsheba', 'hobart', 'albany', 'dakar', 'serpukhov', 'castro', 'madang', 'labuhan', 'barrow', 'port macquarie', 'matameye', 'praxedis guerrero', 'quesnel', 'mataura', 'nizhneyansk', 'hilo', 'kununurra', 'ciudad bolivar', 'palmer', 'khatanga', 'new norfolk', 'mushie', 'tautira', 'taltal', 'norman wells', 'shambu', 'krasnyy yar', 'rabo de peixe', 'hambantota', 'pechora', 'dhadar', 'pangnirtung', 'bestobe', 'saint anthony', 'kakching', 'nelson bay', 'riwaka', 'ust-omchug', 'saint-ambroise', 'sao joao da barra', 'bluff', 'russell', 'kruisfontein', 'avarua', 'banda aceh', 'omboue', 'tiksi', 'arraial do cabo', 'brae', 'eresos', 'belize', 'thompson', 'belushya guba', 'mahebourg', 'meulaboh', 'jinchang', 'goderich', 'rock sound', 'bethel', 'illoqqortoormiut', 'chagda', 'sao filipe', 'cape town', 'lasa', 'sawtell', 'mitu', 'moron', 'kyra', 'madaoua', 'aksu', 'ngunguru', 'vidyayevo', 'paamiut', 'viligili', 'kaitangata', 'kirkenaer', 'road town', 'qaanaaq', 'east london', 'bredasdorp', 'belaya gora', 'san jose', 'ebolowa', 'jutai', 'talara', 'tsihombe', 'makokou', 'rungata', 'kenai', 'port alfred', 'barentsburg', 'vitim', 'vaitupu', 'victor harbor', 'saleaula', 'xianyang', 'bachaquero', 'kavieng', 'navolato', 'bur gabo', 'san policarpo', 'ahipara', 'vao', 'poum', 'dondo', 'ribeira brava', 'lethem', 'mys shmidta', 'puerto ayora', 'chuy', 'sistranda', 'toliary', 'bud', 'nome', 'amderma', 'alekseyevsk', 'sylvan lake', 'esperance', 'aksarka', 'khimki', 'santa eulalia del rio', 'henties bay', 'carnarvon', 'esqueda', 'hamilton', 'iracoubo', 'puerto montt', 'airai', 'takoradi', 'beringovskiy', 'komsomolskiy', 'westport', 'wewak', 'tessalit', 'mount isa', 'nipawin', 'guerrero negro', 'butaritari', 'redmond', 'bowen', 'kapaa', 'concepcion', 'barra patuca', 'ambodifototra', 'sisophon', 'port elizabeth', 'taga dzong', 'qaqortoq', 'shimoda', 'bulaevo', 'key largo', 'mandeville', 'kargil', 'tirumullaivasal', 'chumphon', 'robertsport', 'warrington', 'roswell', 'kushima', 'tambura', 'port hedland', 'vaini', 'forssa', 'ballina', 'tasiilaq', 'grand river south east', 'sentyabrskiy', 'korem', 'aklavik', 'georgetown', 'klaksvik', 'harnosand', 'kalmunai', 'mogadishu', 'samusu', 'lamu', 'nishihara', 'karkaralinsk', 'ibanda', 'jamestown', 'hithadhoo', 'liuzhou', 'linxia', 'bengkulu', 'buala', 'nuuk', 'serebryanyy bor', 'verkhoyansk', 'nikolskoye', 'rio grande', 'haines junction', 'visnes', 'neiafu', 'bambous virieux', 'vila franca do campo', 'yar-sale', 'bonfim', 'louisbourg', 'fairbanks', 'peleduy', 'faya', 'maribo', 'longyearbyen', 'isangel', 'suihua', 'jardim', 'hermanus', 'bukama', 'salalah', 'pedernales', 'popondetta', 'miranda', 'saldanha', 'padang', 'ilulissat', 'khani', 'lorengau', 'kahului', 'great yarmouth', 'tumannyy', 'ponta do sol', 'langenburg', 'kashi', 'ucluelet', 'clyde river', 'comodoro rivadavia', 'hachinohe', 'pangody', 'puerto colombia', 'sola', 'javanrud', 'kaz', 'vigeland', 'yerofey pavlovich', 'port lincoln', 'evensk', 'bay roberts', 'havre-saint-pierre', 'kerema', 'saint-joseph', 'luba', 'morondava', 'severo-kurilsk', 'victoria', 'weinan', 'katsuura', 'harper', 'karaul', 'luwuk', 'cairns', 'santa fe', 'swift current', 'saint george', 'fethiye', 'ambon', 'nola', 'jiayuguan', 'san patricio', 'alice springs', 'umzimvubu', 'curaca', 'hanna', 'corrente', 'san quintin', 'rennes', 'nanortalik', 'gilbues', 'marcona', 'palu', 'fortuna', 'kodiak', 'baft', 'kingman', 'tyukhtet', 'manono', 'santiago del estero', 'viedma', 'tuatapere', 'rocha', 'cidreira', 'ust-nera', 'luderitz', 'dungarpur', 'chiredzi', 'antofagasta', 'husavik', 'college', 'zambezi', 'coahuayana', 'sorvag', 'sebina', 'miyako', 'channel-port aux basques', 'pogranichnyy', 'yomitan', 'port blair', 'kurilsk', 'tooele', 'vila velha', 'bose', 'iqaluit', 'inhambane', 'mount gambier', 'saint-pierre', 'acarau', 'beloha', 'arica', 'le vauclin', 'uyuni', 'biak', 'baruun-urt', 'dauphin', 'les cayes', 'burica', 'yaan', 'jinchengjiang', 'torbay', 'slave lake', 'byron bay', 'ozinki', 'mana', 'scottsburgh', 'valdez', 'codajas', 'port hardy', 'yeppoon', 'yerbogachen', 'beyneu', 'jalu', 'grindavik', 'cabo san lucas', 'praia', 'buariki', 'port moresby', 'saskylakh', 'fairfield', 'punta alta', 'attawapiskat', 'elverum', 'talcahuano', 'mehamn', 'roma', 'ambilobe', 'andijon', 'rawicz', 'plettenberg bay', 'belturbet', 'zhuhai', 'ahuimanu', 'chupa', 'razgrad', 'wanning', 'muravlenko', 'kayes', 'perris', 'tianpeng', 'raga', 'susanville', 'saint quentin', 'aswan', 'pulandian', 'dongsheng', 'geraldton', 'atar', 'clarence town', 'boissevain', 'auki', 'te anau', 'kingisepp', 'gat', 'tazovskiy', 'karymskoye', 'guaira', 'pafos', 'hovd', 'nha trang', 'vardo', 'hay river', 'mkushi', 'abu dhabi', 'lata', 'chengmai', 'oranjestad', 'bobovdol', 'cape canaveral', 'manaure', 'acapulco', 'hofn', 'camacha', 'meadow lake', 'okulovka', 'libreville', 'naze', 'pochutla', 'santa isabel do rio negro', 'general pico', 'abu samrah', 'yulara', 'turukhansk', 'tobol', 'umm durman', 'bubaque', 'arroyo', 'aborlan', 'wa', 'bilma', 'storslett', 'aykhal', 'mandalgovi', 'waipawa', 'malanje', 'caningay', 'sokolka', 'stornoway', 'mporokoso', 'zhigansk', 'almaty', 'coihaique', 'cedar city', 'kiama', 'magaria', 'bani walid', 'sonderborg', 'anadyr', 'ilinskiy', 'laguna', 'emerald', 'altagracia de orituco', 'requena', 'yumen', 'narsaq', 'basco', 'ostersund', 'ostrovnoy', 'pisco', 'broken hill', 'sioux lookout', 'chapais', 'zyryanka', 'banikoara', 'gelemso', 'mindelo', 'boyolangu', 'najran', 'churapcha', 'staraya poltavka', 'salym', 'arman', 'saint-paul', 'kidal', 'trelew', 'warqla', 'maniitsoq', 'kazalinsk', 'truckee', 'kudahuvadhoo', 'santa isabel', 'hasaki', 'ordzhonikidze', 'tasbuget', 'tarut', 'amahai', 'pevek', 'mercedes', 'itaparica', 'ushibuka', 'tucupita', 'general bravo', 'radviliskis', 'tulun', 'souillac', 'kontagora', 'tambacounda', 'palmeira das missoes', 'dingle', 'snasa', 'barcelos', 'danilovka', 'purpe', 'nizhniy kuranakh', 'ariogala', 'kulhudhuffushi', 'namalenga', 'san cristobal', 'rockhampton', 'ust-kut', 'itoman', 'raudeberg', 'namatanai', 'itarantim', 'jumla', 'weligama', 'novovoronezh', 'colon', 'yithion', 'garowe', 'dunedin', 'puerto madryn', 'murdochville', 'lagoa', 'astana', 'margate', 'san severino marche', 'jiangyou', 'moyo', 'carutapera', 'borama', 'laela', 'mitsamiouli', 'vanimo', 'otane', 'flin flon', 'tarudant', 'sovetskiy', 'edson', 'sarankhola', 'trelaze', 'belmonte', 'nanpiao', 'altay', 'cherskiy', 'acajutla', 'vestmanna', 'vidim', 'nizwa', 'tromso', 'kholtoson', 'kalabo', 'alofi', 'laja', 'ovalle', 'fukue', 'lazaro cardenas', 'matara', 'manokwari', 'flagstaff', 'campbellton', 'yenagoa', 'ternate', 'srednekolymsk', 'nemuro', 'galiwinku', 'zhangye', 'ovruch', 'san vicente', 'dengzhou', 'fort nelson', 'nanyamba', 'chiria', 'ojinaga', 'badou', 'samarai', 'puliyur', 'devgarh', 'liverpool', 'balykshi', 'miri', 'kurumkan', 'kristiinankaupunki', 'kupang', 'chernogorsk', 'onega', 'hammerfest', 'dongobesh', 'praia da vitoria', 'vila', 'sitka', 'mareeba', 'iwanai', 'houma', 'poso', 'los llanos de aridane', 'coquimbo', 'bahia de caraquez', 'ndjole', 'ondorhaan', 'koutsouras', 'darovskoy', 'noumea', 'quelimane', 'vestmannaeyjar', 'charters towers', 'morant bay', 'erenhot', 'kawalu', 'svetlyy', 'michigan city', 'villamontes', 'raalte', 'umm kaddadah', 'balaipungut', 'berlevag', 'leshukonskoye', 'larsnes', 'kirakira', 'constitucion']\n"
     ]
    }
   ],
   "source": [
    "print(cities)"
   ]
  },
  {
   "cell_type": "markdown",
   "metadata": {},
   "source": [
    "### Perform API Calls\n",
    "* Perform a weather check on each city using a series of successive API calls.\n",
    "* Include a print log of each city as it'sbeing processed (with the city number and city name).\n"
   ]
  },
  {
   "cell_type": "code",
   "execution_count": 22,
   "metadata": {},
   "outputs": [],
   "source": [
    "\n",
    "# Starting URL for Weather Map API Call\n",
    "url = \"http://api.openweathermap.org/data/2.5/weather?\"\n",
    "units = \"metric\"\n",
    "\n",
    "# URL Query\n",
    "query_url = f\"{url}appid={api_key}&units={units}&q=\""
   ]
  },
  {
   "cell_type": "code",
   "execution_count": 23,
   "metadata": {},
   "outputs": [],
   "source": [
    "city = citipy.nearest_city(lat_lng[0], lat_lng[1]).city_name\n",
    "# Lists to hold reponse info\n",
    "city_name =[]\n",
    "cloudiness = []\n",
    "country = []\n",
    "date = []\n",
    "humidity = []\n",
    "lat = []\n",
    "lng = []\n",
    "max_temp =[]\n",
    "wind_speed =[]\n"
   ]
  },
  {
   "cell_type": "code",
   "execution_count": 24,
   "metadata": {},
   "outputs": [
    {
     "name": "stdout",
     "output_type": "stream",
     "text": [
      "Beginning Data Retrieval\n",
      "-------------------------------\n"
     ]
    },
    {
     "ename": "KeyError",
     "evalue": "'clouds'",
     "output_type": "error",
     "traceback": [
      "\u001b[1;31m---------------------------------------------------------------------------\u001b[0m",
      "\u001b[1;31mKeyError\u001b[0m                                  Traceback (most recent call last)",
      "\u001b[1;32m<ipython-input-24-a652dc996d48>\u001b[0m in \u001b[0;36m<module>\u001b[1;34m\u001b[0m\n\u001b[0;32m      9\u001b[0m \u001b[1;32mfor\u001b[0m \u001b[0mcity\u001b[0m \u001b[1;32min\u001b[0m \u001b[0mcities\u001b[0m\u001b[1;33m:\u001b[0m\u001b[1;33m\u001b[0m\u001b[1;33m\u001b[0m\u001b[0m\n\u001b[0;32m     10\u001b[0m     \u001b[0mresponse\u001b[0m \u001b[1;33m=\u001b[0m \u001b[0mrequests\u001b[0m\u001b[1;33m.\u001b[0m\u001b[0mget\u001b[0m\u001b[1;33m(\u001b[0m\u001b[0mquery_url\u001b[0m \u001b[1;33m+\u001b[0m \u001b[0mcity\u001b[0m\u001b[1;33m)\u001b[0m\u001b[1;33m.\u001b[0m\u001b[0mjson\u001b[0m\u001b[1;33m(\u001b[0m\u001b[1;33m)\u001b[0m\u001b[1;33m\u001b[0m\u001b[1;33m\u001b[0m\u001b[0m\n\u001b[1;32m---> 11\u001b[1;33m     \u001b[0mcloudiness\u001b[0m\u001b[1;33m.\u001b[0m\u001b[0mappend\u001b[0m\u001b[1;33m(\u001b[0m\u001b[0mresponse\u001b[0m\u001b[1;33m[\u001b[0m\u001b[1;34m'clouds'\u001b[0m\u001b[1;33m]\u001b[0m\u001b[1;33m[\u001b[0m\u001b[1;34m'all'\u001b[0m\u001b[1;33m]\u001b[0m\u001b[1;33m)\u001b[0m\u001b[1;33m\u001b[0m\u001b[1;33m\u001b[0m\u001b[0m\n\u001b[0m\u001b[0;32m     12\u001b[0m     \u001b[0mcountry\u001b[0m\u001b[1;33m.\u001b[0m\u001b[0mappend\u001b[0m\u001b[1;33m(\u001b[0m\u001b[0mresponse\u001b[0m\u001b[1;33m[\u001b[0m\u001b[1;34m'sys'\u001b[0m\u001b[1;33m]\u001b[0m\u001b[1;33m[\u001b[0m\u001b[1;34m'country'\u001b[0m\u001b[1;33m]\u001b[0m\u001b[1;33m)\u001b[0m\u001b[1;33m\u001b[0m\u001b[1;33m\u001b[0m\u001b[0m\n\u001b[0;32m     13\u001b[0m     \u001b[0mdate\u001b[0m\u001b[1;33m.\u001b[0m\u001b[0mappend\u001b[0m\u001b[1;33m(\u001b[0m\u001b[0mresponse\u001b[0m\u001b[1;33m[\u001b[0m\u001b[1;34m'dt'\u001b[0m\u001b[1;33m]\u001b[0m\u001b[1;33m)\u001b[0m\u001b[1;33m\u001b[0m\u001b[1;33m\u001b[0m\u001b[0m\n",
      "\u001b[1;31mKeyError\u001b[0m: 'clouds'"
     ]
    }
   ],
   "source": [
    "# Call counter \n",
    "record = 1\n",
    "\n",
    "# Log file print statement\n",
    "print(f\"Beginning Data Retrieval\")\n",
    "print(f\"-------------------------------\")\n",
    "\n",
    "#Loop through the cities in the city list and perform the data request \n",
    "for city in cities:\n",
    "    response = requests.get(query_url + city).json()\n",
    "    cloudiness.append(response['clouds']['all'])\n",
    "    country.append(response['sys']['country'])\n",
    "    date.append(response['dt'])\n",
    "    humidity.append(response['main']['humidity'])\n",
    "    lat.append(response['coord']['lat'])\n",
    "    lng.append(response['coord']['lon'])\n",
    "    max_temp.append(response['main']['temp_max'])\n",
    "    wind_speed.append(response['wind']['speed'])\n",
    "    \n",
    "    \n",
    "# define the counter successive increase\n",
    "records=record+1\n",
    "\n",
    "# where there's no record\n",
    "\n",
    "print(\"City not found. Skipping...\")\n",
    "        \n",
    "\n",
    "        \n",
    "        \n",
    "   \n",
    "  \n",
    "\n",
    "        \n",
    "        \n",
    "            \n",
    "        \n",
    "        \n"
   ]
  },
  {
   "cell_type": "markdown",
   "metadata": {},
   "source": [
    "### Convert Raw Data to DataFrame\n",
    "* Export the city data into a .csv.\n",
    "* Display the DataFrame"
   ]
  },
  {
   "cell_type": "code",
   "execution_count": 25,
   "metadata": {},
   "outputs": [
    {
     "ename": "NameError",
     "evalue": "name 'output_dict' is not defined",
     "output_type": "error",
     "traceback": [
      "\u001b[1;31m---------------------------------------------------------------------------\u001b[0m",
      "\u001b[1;31mNameError\u001b[0m                                 Traceback (most recent call last)",
      "\u001b[1;32m<ipython-input-25-95025d1ce6bf>\u001b[0m in \u001b[0;36m<module>\u001b[1;34m\u001b[0m\n\u001b[0;32m     13\u001b[0m \u001b[1;33m\u001b[0m\u001b[0m\n\u001b[0;32m     14\u001b[0m \u001b[1;31m# Create a data frame from dictionary\u001b[0m\u001b[1;33m\u001b[0m\u001b[1;33m\u001b[0m\u001b[1;33m\u001b[0m\u001b[0m\n\u001b[1;32m---> 15\u001b[1;33m \u001b[0mOutput_data\u001b[0m \u001b[1;33m=\u001b[0m \u001b[0mpd\u001b[0m\u001b[1;33m.\u001b[0m\u001b[0mDataFrame\u001b[0m\u001b[1;33m(\u001b[0m\u001b[0moutput_dict\u001b[0m\u001b[1;33m)\u001b[0m\u001b[1;33m\u001b[0m\u001b[1;33m\u001b[0m\u001b[0m\n\u001b[0m\u001b[0;32m     16\u001b[0m \u001b[1;33m\u001b[0m\u001b[0m\n\u001b[0;32m     17\u001b[0m \u001b[1;31m# Display count of weather data values\u001b[0m\u001b[1;33m\u001b[0m\u001b[1;33m\u001b[0m\u001b[1;33m\u001b[0m\u001b[0m\n",
      "\u001b[1;31mNameError\u001b[0m: name 'output_dict' is not defined"
     ]
    }
   ],
   "source": [
    "# Create a dictonary with the lists generated\n",
    "Output_dict = {\n",
    "    \"City\": city_name,\n",
    "    \"Cloudiness\":cloudiness, \n",
    "    \"Country\":country,\n",
    "    \"Date\":date, \n",
    "    \"Humidity\": humidity,\n",
    "    \"Lat\":lat, \n",
    "    \"Lng\":lng, \n",
    "    \"Max Temp\": max_temp,\n",
    "    \"Wind Speed\":wind_speed\n",
    "}\n",
    "\n",
    "# Create a data frame from dictionary\n",
    "Output_data = pd.DataFrame(output_dict)\n",
    "\n",
    "# Display count of weather data values \n",
    "weather_data.count()"
   ]
  },
  {
   "cell_type": "code",
   "execution_count": 26,
   "metadata": {},
   "outputs": [
    {
     "ename": "NameError",
     "evalue": "name 'Output_data' is not defined",
     "output_type": "error",
     "traceback": [
      "\u001b[1;31m---------------------------------------------------------------------------\u001b[0m",
      "\u001b[1;31mNameError\u001b[0m                                 Traceback (most recent call last)",
      "\u001b[1;32m<ipython-input-26-1d25e77878e9>\u001b[0m in \u001b[0;36m<module>\u001b[1;34m\u001b[0m\n\u001b[0;32m      1\u001b[0m \u001b[1;31m# Save data frame to CSV\u001b[0m\u001b[1;33m\u001b[0m\u001b[1;33m\u001b[0m\u001b[1;33m\u001b[0m\u001b[0m\n\u001b[1;32m----> 2\u001b[1;33m \u001b[0mOutput_data\u001b[0m\u001b[1;33m.\u001b[0m\u001b[0mto_csv\u001b[0m\u001b[1;33m(\u001b[0m\u001b[1;34m'Output_CSV/weather_data.csv'\u001b[0m\u001b[1;33m)\u001b[0m\u001b[1;33m\u001b[0m\u001b[1;33m\u001b[0m\u001b[0m\n\u001b[0m\u001b[0;32m      3\u001b[0m \u001b[1;33m\u001b[0m\u001b[0m\n\u001b[0;32m      4\u001b[0m \u001b[1;31m# Display data frame head\u001b[0m\u001b[1;33m\u001b[0m\u001b[1;33m\u001b[0m\u001b[1;33m\u001b[0m\u001b[0m\n\u001b[0;32m      5\u001b[0m \u001b[0mweather_data\u001b[0m\u001b[1;33m.\u001b[0m\u001b[0mhead\u001b[0m\u001b[1;33m(\u001b[0m\u001b[1;33m)\u001b[0m\u001b[1;33m\u001b[0m\u001b[1;33m\u001b[0m\u001b[0m\n",
      "\u001b[1;31mNameError\u001b[0m: name 'Output_data' is not defined"
     ]
    }
   ],
   "source": [
    "# Save data frame to CSV\n",
    "Output_data.to_csv('Output_CSV/weather_data.csv')\n",
    "\n",
    "# Display data frame head \n",
    "weather_data.head()"
   ]
  },
  {
   "cell_type": "markdown",
   "metadata": {},
   "source": [
    "### Plotting the Data\n",
    "* Use proper labeling of the plots using plot titles (including date of analysis) and axes labels.\n",
    "* Save the plotted figures as .pngs."
   ]
  },
  {
   "cell_type": "markdown",
   "metadata": {},
   "source": [
    "#### Latitude vs. Temperature Plot"
   ]
  },
  {
   "cell_type": "code",
   "execution_count": 27,
   "metadata": {},
   "outputs": [
    {
     "ename": "NameError",
     "evalue": "name 'output_data' is not defined",
     "output_type": "error",
     "traceback": [
      "\u001b[1;31m---------------------------------------------------------------------------\u001b[0m",
      "\u001b[1;31mNameError\u001b[0m                                 Traceback (most recent call last)",
      "\u001b[1;32m<ipython-input-27-bfbf7d4c9024>\u001b[0m in \u001b[0;36m<module>\u001b[1;34m\u001b[0m\n\u001b[0;32m      1\u001b[0m \u001b[1;31m# A scatter plot\u001b[0m\u001b[1;33m\u001b[0m\u001b[1;33m\u001b[0m\u001b[1;33m\u001b[0m\u001b[0m\n\u001b[1;32m----> 2\u001b[1;33m \u001b[0mplt\u001b[0m\u001b[1;33m.\u001b[0m\u001b[0mscatter\u001b[0m\u001b[1;33m(\u001b[0m\u001b[0moutput_data\u001b[0m\u001b[1;33m[\u001b[0m\u001b[1;34m\"Lat\"\u001b[0m\u001b[1;33m]\u001b[0m\u001b[1;33m,\u001b[0m \u001b[0moutput_data\u001b[0m\u001b[1;33m[\u001b[0m\u001b[1;34m\"Max Temp\"\u001b[0m\u001b[1;33m]\u001b[0m\u001b[1;33m,\u001b[0m \u001b[0mmarker\u001b[0m\u001b[1;33m=\u001b[0m\u001b[1;34m\"o\"\u001b[0m\u001b[1;33m,\u001b[0m \u001b[0ms\u001b[0m\u001b[1;33m=\u001b[0m\u001b[1;36m10\u001b[0m\u001b[1;33m)\u001b[0m\u001b[1;33m\u001b[0m\u001b[1;33m\u001b[0m\u001b[0m\n\u001b[0m\u001b[0;32m      3\u001b[0m \u001b[1;33m\u001b[0m\u001b[0m\n\u001b[0;32m      4\u001b[0m \u001b[1;31m# Graph properties\u001b[0m\u001b[1;33m\u001b[0m\u001b[1;33m\u001b[0m\u001b[1;33m\u001b[0m\u001b[0m\n\u001b[0;32m      5\u001b[0m \u001b[0mplt\u001b[0m\u001b[1;33m.\u001b[0m\u001b[0mtitle\u001b[0m\u001b[1;33m(\u001b[0m\u001b[1;34m\"City Latitude vs. Max Temperature\"\u001b[0m\u001b[1;33m)\u001b[0m\u001b[1;33m\u001b[0m\u001b[1;33m\u001b[0m\u001b[0m\n",
      "\u001b[1;31mNameError\u001b[0m: name 'output_data' is not defined"
     ]
    }
   ],
   "source": [
    "# A scatter plot\n",
    "plt.scatter(output_data[\"Lat\"], output_data[\"Max Temp\"], marker=\"o\", s=10)\n",
    "\n",
    "# Graph properties\n",
    "plt.title(\"City Latitude vs. Max Temperature\")\n",
    "plt.ylabel(\"Max. Temperature (F)\")\n",
    "plt.xlabel(\"Latitude\")\n",
    "plt.grid(True)\n",
    "\n",
    "# Save the figure\n",
    "plt.savefig(\"CityLatitudevsMaxTemperature.png\")\n",
    "\n",
    "# Show plot\n",
    "plt.show()"
   ]
  },
  {
   "cell_type": "markdown",
   "metadata": {},
   "source": [
    "#### Latitude vs. Humidity Plot"
   ]
  },
  {
   "cell_type": "code",
   "execution_count": 28,
   "metadata": {},
   "outputs": [
    {
     "ename": "NameError",
     "evalue": "name 'output_data' is not defined",
     "output_type": "error",
     "traceback": [
      "\u001b[1;31m---------------------------------------------------------------------------\u001b[0m",
      "\u001b[1;31mNameError\u001b[0m                                 Traceback (most recent call last)",
      "\u001b[1;32m<ipython-input-28-2ae6d4ec0baf>\u001b[0m in \u001b[0;36m<module>\u001b[1;34m\u001b[0m\n\u001b[0;32m      1\u001b[0m \u001b[1;31m# A scatter plot\u001b[0m\u001b[1;33m\u001b[0m\u001b[1;33m\u001b[0m\u001b[1;33m\u001b[0m\u001b[0m\n\u001b[1;32m----> 2\u001b[1;33m \u001b[0mplt\u001b[0m\u001b[1;33m.\u001b[0m\u001b[0mscatter\u001b[0m\u001b[1;33m(\u001b[0m\u001b[0moutput_data\u001b[0m\u001b[1;33m[\u001b[0m\u001b[1;34m\"Lat\"\u001b[0m\u001b[1;33m]\u001b[0m\u001b[1;33m,\u001b[0m \u001b[0moutput_data\u001b[0m\u001b[1;33m[\u001b[0m\u001b[1;34m\"Humidity\"\u001b[0m\u001b[1;33m]\u001b[0m\u001b[1;33m,\u001b[0m \u001b[0mmarker\u001b[0m\u001b[1;33m=\u001b[0m\u001b[1;34m\"o\"\u001b[0m\u001b[1;33m,\u001b[0m \u001b[0ms\u001b[0m\u001b[1;33m=\u001b[0m\u001b[1;36m10\u001b[0m\u001b[1;33m)\u001b[0m\u001b[1;33m\u001b[0m\u001b[1;33m\u001b[0m\u001b[0m\n\u001b[0m\u001b[0;32m      3\u001b[0m \u001b[1;33m\u001b[0m\u001b[0m\n\u001b[0;32m      4\u001b[0m \u001b[1;31m# Graph properties\u001b[0m\u001b[1;33m\u001b[0m\u001b[1;33m\u001b[0m\u001b[1;33m\u001b[0m\u001b[0m\n\u001b[0;32m      5\u001b[0m \u001b[0mplt\u001b[0m\u001b[1;33m.\u001b[0m\u001b[0mtitle\u001b[0m\u001b[1;33m(\u001b[0m\u001b[1;34m\"City Latitude vs. Humidity\"\u001b[0m\u001b[1;33m)\u001b[0m\u001b[1;33m\u001b[0m\u001b[1;33m\u001b[0m\u001b[0m\n",
      "\u001b[1;31mNameError\u001b[0m: name 'output_data' is not defined"
     ]
    }
   ],
   "source": [
    "# A scatter plot\n",
    "plt.scatter(output_data[\"Lat\"], output_data[\"Humidity\"], marker=\"o\", s=10)\n",
    "\n",
    "# Graph properties\n",
    "plt.title(\"City Latitude vs. Humidity\")\n",
    "plt.ylabel(\"Humidity (%)\")\n",
    "plt.xlabel(\"Latitude\")\n",
    "plt.grid(True)\n",
    "\n",
    "# Save the figure\n",
    "plt.savefig(\"CityLatitudevsHumidity.png\")\n",
    "\n",
    "# Show plot\n",
    "plt.show()"
   ]
  },
  {
   "cell_type": "markdown",
   "metadata": {},
   "source": [
    "#### Latitude vs. Cloudiness Plot"
   ]
  },
  {
   "cell_type": "code",
   "execution_count": 29,
   "metadata": {},
   "outputs": [
    {
     "ename": "NameError",
     "evalue": "name 'output_data' is not defined",
     "output_type": "error",
     "traceback": [
      "\u001b[1;31m---------------------------------------------------------------------------\u001b[0m",
      "\u001b[1;31mNameError\u001b[0m                                 Traceback (most recent call last)",
      "\u001b[1;32m<ipython-input-29-ed00366466c1>\u001b[0m in \u001b[0;36m<module>\u001b[1;34m\u001b[0m\n\u001b[0;32m      1\u001b[0m \u001b[1;31m# A scatter plot\u001b[0m\u001b[1;33m\u001b[0m\u001b[1;33m\u001b[0m\u001b[1;33m\u001b[0m\u001b[0m\n\u001b[1;32m----> 2\u001b[1;33m \u001b[0mplt\u001b[0m\u001b[1;33m.\u001b[0m\u001b[0mscatter\u001b[0m\u001b[1;33m(\u001b[0m\u001b[0moutput_data\u001b[0m\u001b[1;33m[\u001b[0m\u001b[1;34m\"Lat\"\u001b[0m\u001b[1;33m]\u001b[0m\u001b[1;33m,\u001b[0m \u001b[0moutput_data\u001b[0m\u001b[1;33m[\u001b[0m\u001b[1;34m\"Cloudiness\"\u001b[0m\u001b[1;33m]\u001b[0m\u001b[1;33m,\u001b[0m \u001b[0mmarker\u001b[0m\u001b[1;33m=\u001b[0m\u001b[1;34m\"o\"\u001b[0m\u001b[1;33m,\u001b[0m \u001b[0ms\u001b[0m\u001b[1;33m=\u001b[0m\u001b[1;36m10\u001b[0m\u001b[1;33m)\u001b[0m\u001b[1;33m\u001b[0m\u001b[1;33m\u001b[0m\u001b[0m\n\u001b[0m\u001b[0;32m      3\u001b[0m \u001b[1;33m\u001b[0m\u001b[0m\n\u001b[0;32m      4\u001b[0m \u001b[1;31m# Graph properties\u001b[0m\u001b[1;33m\u001b[0m\u001b[1;33m\u001b[0m\u001b[1;33m\u001b[0m\u001b[0m\n\u001b[0;32m      5\u001b[0m \u001b[0mplt\u001b[0m\u001b[1;33m.\u001b[0m\u001b[0mtitle\u001b[0m\u001b[1;33m(\u001b[0m\u001b[1;34m\"City Latitude vs. Cloudiness\"\u001b[0m\u001b[1;33m)\u001b[0m\u001b[1;33m\u001b[0m\u001b[1;33m\u001b[0m\u001b[0m\n",
      "\u001b[1;31mNameError\u001b[0m: name 'output_data' is not defined"
     ]
    }
   ],
   "source": [
    "# A scatter plot\n",
    "plt.scatter(output_data[\"Lat\"], output_data[\"Cloudiness\"], marker=\"o\", s=10)\n",
    "\n",
    "# Graph properties\n",
    "plt.title(\"City Latitude vs. Cloudiness\")\n",
    "plt.ylabel(\"Cloudiness (%)\")\n",
    "plt.xlabel(\"Latitude\")\n",
    "plt.grid(True)\n",
    "\n",
    "# Save the figure\n",
    "plt.savefig(\"CityLatitudevsCloudiness.png\")\n",
    "\n",
    "# Show plot\n",
    "plt.show()"
   ]
  },
  {
   "cell_type": "markdown",
   "metadata": {},
   "source": [
    "#### Latitude vs. Wind Speed Plot"
   ]
  },
  {
   "cell_type": "code",
   "execution_count": 30,
   "metadata": {},
   "outputs": [
    {
     "ename": "NameError",
     "evalue": "name 'output_data' is not defined",
     "output_type": "error",
     "traceback": [
      "\u001b[1;31m---------------------------------------------------------------------------\u001b[0m",
      "\u001b[1;31mNameError\u001b[0m                                 Traceback (most recent call last)",
      "\u001b[1;32m<ipython-input-30-56b461041073>\u001b[0m in \u001b[0;36m<module>\u001b[1;34m\u001b[0m\n\u001b[0;32m      1\u001b[0m \u001b[1;31m# A scatter plot\u001b[0m\u001b[1;33m\u001b[0m\u001b[1;33m\u001b[0m\u001b[1;33m\u001b[0m\u001b[0m\n\u001b[1;32m----> 2\u001b[1;33m \u001b[0mplt\u001b[0m\u001b[1;33m.\u001b[0m\u001b[0mscatter\u001b[0m\u001b[1;33m(\u001b[0m\u001b[0moutput_data\u001b[0m\u001b[1;33m[\u001b[0m\u001b[1;34m\"Lat\"\u001b[0m\u001b[1;33m]\u001b[0m\u001b[1;33m,\u001b[0m \u001b[0moutput_data\u001b[0m\u001b[1;33m[\u001b[0m\u001b[1;34m\"Wind Speed\"\u001b[0m\u001b[1;33m]\u001b[0m\u001b[1;33m,\u001b[0m \u001b[0mmarker\u001b[0m\u001b[1;33m=\u001b[0m\u001b[1;34m\"o\"\u001b[0m\u001b[1;33m,\u001b[0m \u001b[0ms\u001b[0m\u001b[1;33m=\u001b[0m\u001b[1;36m10\u001b[0m\u001b[1;33m)\u001b[0m\u001b[1;33m\u001b[0m\u001b[1;33m\u001b[0m\u001b[0m\n\u001b[0m\u001b[0;32m      3\u001b[0m \u001b[1;33m\u001b[0m\u001b[0m\n\u001b[0;32m      4\u001b[0m \u001b[1;31m# Graph properties\u001b[0m\u001b[1;33m\u001b[0m\u001b[1;33m\u001b[0m\u001b[1;33m\u001b[0m\u001b[0m\n\u001b[0;32m      5\u001b[0m \u001b[0mplt\u001b[0m\u001b[1;33m.\u001b[0m\u001b[0mtitle\u001b[0m\u001b[1;33m(\u001b[0m\u001b[1;34m\"City Latitude vs. Wind Speed\"\u001b[0m\u001b[1;33m)\u001b[0m\u001b[1;33m\u001b[0m\u001b[1;33m\u001b[0m\u001b[0m\n",
      "\u001b[1;31mNameError\u001b[0m: name 'output_data' is not defined"
     ]
    }
   ],
   "source": [
    "\n",
    "# A scatter plot\n",
    "plt.scatter(output_data[\"Lat\"], output_data[\"Wind Speed\"], marker=\"o\", s=10)\n",
    "\n",
    "# Graph properties\n",
    "plt.title(\"City Latitude vs. Wind Speed\")\n",
    "plt.ylabel(\"Wind Speed (mph)\")\n",
    "plt.xlabel(\"Latitude\")\n",
    "plt.grid(True)\n",
    "\n",
    "# Save the figure\n",
    "plt.savefig(\"CityLatitudevsWindSpeed.png\")\n",
    "\n",
    "# Show plot\n",
    "plt.show()\n"
   ]
  },
  {
   "cell_type": "code",
   "execution_count": null,
   "metadata": {},
   "outputs": [],
   "source": []
  }
 ],
 "metadata": {
  "anaconda-cloud": {},
  "kernel_info": {
   "name": "python3"
  },
  "kernelspec": {
   "display_name": "Python 3",
   "language": "python",
   "name": "python3"
  },
  "language_info": {
   "codemirror_mode": {
    "name": "ipython",
    "version": 3
   },
   "file_extension": ".py",
   "mimetype": "text/x-python",
   "name": "python",
   "nbconvert_exporter": "python",
   "pygments_lexer": "ipython3",
   "version": "3.7.4"
  },
  "nteract": {
   "version": "0.12.3"
  }
 },
 "nbformat": 4,
 "nbformat_minor": 2
}

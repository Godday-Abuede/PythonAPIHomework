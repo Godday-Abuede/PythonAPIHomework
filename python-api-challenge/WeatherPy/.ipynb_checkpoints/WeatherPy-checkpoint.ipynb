{
 "cells": [
  {
   "cell_type": "markdown",
   "metadata": {},
   "source": [
    "# WeatherPy\n",
    "----\n",
    "\n",
    "#### Note\n",
    "* Instructions have been included for each segment. You do not have to follow them exactly, but they are included to help you think through the steps."
   ]
  },
  {
   "cell_type": "code",
   "execution_count": 37,
   "metadata": {
    "scrolled": true
   },
   "outputs": [],
   "source": [
    "# Dependencies and Setup\n",
    "import matplotlib.pyplot as plt\n",
    "import pandas as pd\n",
    "import numpy as np\n",
    "import requests\n",
    "import time\n",
    "\n",
    "# Import API key\n",
    "api_key= 'f9b3de9264d1831a780da2e78d455112'\n",
    "\n",
    "# Incorporated citipy to determine city based on latitude and longitude\n",
    "from citipy import citipy\n",
    "\n",
    "# Output File (CSV)\n",
    "output_data_file = \"output_data/cities.csv\"\n",
    "\n",
    "# Range of latitudes and longitudes\n",
    "lat_range = (-90, 90)\n",
    "lng_range = (-180, 180)"
   ]
  },
  {
   "cell_type": "markdown",
   "metadata": {},
   "source": [
    "## Generate Cities List"
   ]
  },
  {
   "cell_type": "code",
   "execution_count": 52,
   "metadata": {},
   "outputs": [
    {
     "data": {
      "text/plain": [
       "631"
      ]
     },
     "execution_count": 52,
     "metadata": {},
     "output_type": "execute_result"
    }
   ],
   "source": [
    "# List for holding lat_lngs and cities\n",
    "lat_lngs = []\n",
    "cities = []\n",
    "\n",
    "# Create a set of random lat and lng combinations\n",
    "lats = np.random.uniform(low=-90.000, high=90.000, size=1500)\n",
    "lngs = np.random.uniform(low=-180.000, high=180.000, size=1500)\n",
    "lat_lngs = zip(lats, lngs)\n",
    "\n",
    "# Identify nearest city for each lat, lng combination\n",
    "for lat_lng in lat_lngs:\n",
    "    city = citipy.nearest_city(lat_lng[0], lat_lng[1]).city_name\n",
    "    # city space on the web browser is %20, replace city with the 20% \n",
    "    city = city.replace(\" \", \"%20\")\n",
    "    # If the city is unique, then add it to a our cities list\n",
    "    if city not in cities:\n",
    "        cities.append(city)\n",
    "\n",
    "# Print the city count to confirm sufficient count\n",
    "len(cities)\n"
   ]
  },
  {
   "cell_type": "code",
   "execution_count": 53,
   "metadata": {},
   "outputs": [
    {
     "name": "stdout",
     "output_type": "stream",
     "text": [
      "['rikitea', 'illoqqortoormiut', 'thompson', 'port%20macquarie', 'ushuaia', 'benguela', 'chagda', 'pochutla', 'macas', 'tabas', 'kantang', 'inverell', 'camapua', 'cayenne', 'ordzhonikidze', 'san%20patricio', 'port%20alfred', 'hilo', 'goderich', 'byron%20bay', 'vaini', 'iquique', 'ancud', 'severo-kurilsk', 'lebu', 'mataura', 'amurzet', 'punta%20arenas', 'kaeo', 'georgetown', 'vostok', 'lagunas', 'busselton', 'rawson', 'portland', 'sol-iletsk', 'kaitangata', 'ventspils', 'irbeyskoye', 'iqaluit', 'qaanaaq', 'vaitupu', 'luderitz', 'mogok', 'bilibino', 'saint-joseph', 'burgos', 'zhanakorgan', 'east%20london', 'darnah', 'agirish', 'tabou', 'tuktoyaktuk', 'ruidoso', 'victoria', 'hobart', 'alofi', 'pestravka', 'mujiayingzi', 'bathsheba', 'stoyba', 'phalaborwa', 'djang', 'bluff', 'tasiilaq', 'dikson', 'kutum', 'chuy', 'nikolskoye', 'gamboula', 'edd', 'lata', 'mnogovershinnyy', 'indianola', 'morondava', 'hermanus', 'bethel', 'walvis%20bay', 'kodiak', 'comodoro%20rivadavia', 'wenatchee', 'zheleznodorozhnyy', 'castro', 'barcelos', 'hvammstangi', 'puerto%20ayora', 'mount%20hagen', 'mar%20del%20plata', 'honiara', 'ormara', 'aksarka', 'tarudant', 'payo', 'kirensk', 'komsomolskiy', 'ozgon', 'reconquista', 'taolanaro', 'mizan%20teferi', 'bengkulu', 'vlasotince', 'yar-sale', 'half%20moon%20bay', 'new%20norfolk', 'portadown', 'kollumerland', 'sitka', 'ponta%20do%20sol', 'narsaq', 'cherskiy', 'namibe', 'mount%20isa', 'saint-ambroise', 'barentsburg', 'hithadhoo', 'atuona', 'arman', 'tiksi', 'vardo', 'katangli', 'codrington', 'a', 'mbini', 'podgorica', 'adrar', 'kapaa', 'texarkana', 'itarema', 'kuldur', 'chokurdakh', 'negombo', 'bella%20union', 'constitucion', 'saint%20anthony', 'kieta', 'oume', 'manokwari', 'loandjili', 'yirol', 'saldanha', 'cervo', 'souillac', 'grindavik', 'pisco', 'siocon', 'pinawa', 'marsa%20matruh', 'buraydah', 'zolotinka', 'jamestown', 'kavieng', 'lagoa', 'albany', 'kruisfontein', 'mullaitivu', 'tenkodogo', 'nemuro', 'port%20hardy', 'atambua', 'hasaki', 'ponta%20delgada', 'faya', 'dingle', 'yellowknife', 'saint%20george', 'matrei', 'laguna', 'tumannyy', 'taoudenni', 'poum', 'tsihombe', 'rock%20sound', 'mount%20gambier', 'khonuu', 'butaritari', 'bambous%20virieux', 'petropavlovsk-kamchatskiy', 'pevek', 'omboue', 'saint-philippe', 'cape%20town', 'amalapuram', 'dmitriyevka', 'avarua', 'meulaboh', 'tilichiki', 'tautira', 'mecca', 'sioux%20lookout', 'sao%20filipe', 'tokur', 'ilulissat', 'upernavik', 'guerrero%20negro', 'coihaique', 'grand%20forks', 'inta', 'yantal', 'carnarvon', 'provideniya', 'hofn', 'geraldton', 'bilma', 'airai', 'bumba', 'partizanskoye', 'sur', 'nagornskiy', 'marcona', 'martinsicuro', 'ondjiva', 'fortuna', 'rudsar', 'balkanabat', 'visnes', 'siddipet', 'vao', 'longyearbyen', 'barrow', 'leningradskiy', 'asau', 'simi', 'zheleznogorsk-ilimskiy', 'macenta', 'ribeira%20grande', 'yanam', 'harrisburg', 'san%20vicente', 'mahebourg', 'khatanga', 'raudeberg', 'belushya%20guba', 'jiwani', 'bitung', 'avera', 'nizhneyansk', 'san%20julian', 'itupiranga', 'jackson', 'faanui', 'san%20cristobal', 'gucheng', 'torbay', 'klaksvik', 'okha', 'sokone', 'atar', 'faridabad', 'cidreira', 'snihurivka', 'port%20lincoln', 'auki', 'necochea', 'ossora', 'padang', 'bredasdorp', 'skalistyy', 'kenora', 'grand%20river%20south%20east', 'cabo%20san%20lucas', 'sucua', 'sibolga', 'kinablangan', 'muroto', 'port%20elizabeth', 'tsuyama', 'mys%20shmidta', 'dukat', 'puerto%20quijarro', 'xining', 'talnakh', 'calvinia', 'amderma', 'akhisar', 'mahabad', 'sungaipenuh', 'tomatlan', 'batemans%20bay', 'itacare', 'priiskovyy', 'mirzapur', 'namanga', 'andarab', 'deoli', 'zhigansk', 'pingdu', 'diego%20de%20almagro', 'yulara', 'coquimbo', 'usinsk', 'jizan', 'shubarkuduk', 'kokopo', 'denpasar', 'westport', 'pangnirtung', 'flin%20flon', 'nhamunda', 'vestmannaeyjar', 'bada', 'richards%20bay', 'ebolowa', 'nanakuli', 'adeje', 'avesta', 'gaspe', 'bansi', 'maple%20creek', 'kalmunai', 'bac%20lieu', 'turukhansk', 'sentyabrskiy', 'chumikan', 'kavaratti', 'ruatoria', 'aswan', 'sakakah', 'arraial%20do%20cabo', 'kahului', 'soe', 'begoro', 'bantogon', 'warqla', 'broken%20hill', 'lieksa', 'houston', 'lucapa', 'bilokurakyne', 'waipawa', 'esperance', 'burica', 'bubaque', 'alekseyevskoye', 'north%20bend', 'kinchil', 'silver%20city', 'corner%20brook', 'lumberton', 'gilazi', 'beremend', 'anloga', 'bowen', 'hailar', 'kidal', 'sayyan', 'nijar', 'sault%20sainte%20marie', 'rocha', 'kysyl-syr', 'shenjiamen', 'santa%20rosa', 'oktyabrskoye', 'saskylakh', 'leh', 'tessalit', 'husavik', 'tambopata', 'mayakonda', 'neiafu', 'superior', 'gat', 'chengde', 'trairi', 'salalah', 'rabat', 'buchanan', 'tuatapere', 'puerto%20carreno', 'ngunguru', 'mgandu', 'dubreka', 'hays', 'henties%20bay', 'abha', 'muborak', 'victor%20harbor', 'lorengau', 'kenai', 'winslow', 'ghanzi', 'kamenskoye', 'sola', 'quatre%20cocos', 'moron', 'orcopampa', 'tecoanapa', 'gao', 'lolua', 'fairbanks', 'shu', 'jeremie', 'perth', 'yelniki', 'hobyo', 'qaqortoq', 'northam', 'newcastle', 'zverevo', 'viramgam', 'svetlaya', 'caravelas', 'clyde%20river', 'saint-augustin', 'prince%20rupert', 'kirakira', 'kondinskoye', 'kortkeros', 'shingu', 'chiang%20klang', 'pocone', 'deer%20lake', 'port%20hedland', 'teya', 'ichinoseki', 'gunjur', 'huarmey', 'chicama', 'clearwater', 'dabat', 'cabanas', 'hattiesburg', 'beringovskiy', 'isangel', 'creston', 'santa%20cruz%20de%20la%20palma', 'shaunavon', 'kamenka', 'xuchang', 'sorgun', 'salvador', 'vila%20franca%20do%20campo', 'ulfborg', 'vila%20velha', 'antalaha', 'pemberton', 'lompoc', 'nago', 'pusad', 'broome', 'alta%20floresta', 'toora-khem', 'dickinson', 'benalla', 'egvekinot', 'viedma', 'college%20station', 'miranorte', 'kuytun', 'barranca', 'agadez', 'tagusao', 'gambela', 'touros', 'rundu', 'samusu', 'santana', 'ivdel', 'bira', 'sisimiut', 'muravlenko', 'san%20cosme%20y%20damian', 'shagonar', 'nome', 'dagda', 'dourbali', 'krutinka', 'rincon', 'sao%20jose%20da%20coroa%20grande', 'mandalgovi', 'buin', 'gorazde', 'norman%20wells', 'berlevag', 'bonthe', 'porto%20velho', 'praia%20da%20vitoria', 'ludvika', 'pitimbu', 'prainha', 'inongo', 'macheng', 'batagay-alyta', 'am%20timan', 'ybbs', 'morwell', 'opotiki', 'margate', 'hun', 'kisangani', 'tual', 'brigantine', 'doha', 'samarai', 'nacala', 'mareeba', 'koboldo', 'paramonga', 'beloha', 'nguruka', 'belmonte', 'elverum', 'mayo', 'san%20carlos%20del%20zulia', 'meyungs', 'mapimi', 'sirfa', 'daru', 'seymchan', 'lavrentiya', 'varena', 'jumla', 'sao%20joao%20do%20piaui', 'tibati', 'trelew', 'oranjemund', 'gonzalez', 'maniitsoq', 'raton', 'talara', 'pucallpa', 'cristalina', 'yabrud', 'dwarka', 'raymond', 'antofagasta', 'macamic', 'inhambane', 'shellbrook', 'murray%20bridge', 'rantauprapat', 'tamara', 'vozuca', 'acapulco', 'axim', 'mehamn', 'tamandare', 'haines%20junction', 'ahipara', 'itaueira', 'tezu', 'katsuura', 'stabat', 'formoso%20do%20araguaia', 'palabuhanratu', 'porangatu', 'ust-nera', 'lazaro%20cardenas', 'boden', 'santa%20fe', 'campo%20grande', 'banepa', 'grand-santi', 'linhares', 'uzhur', 'rungata', 'aksu', 'takab', 'dimbokro', 'fertoszentmiklos', 'sumbawa', 'palmer', 'maceio', 'krasnoselkup', 'takoradi', 'kununurra', 'paamiut', 'aklavik', 'mercedes', 'pringsewu', 'tarakan', 'tukrah', 'sao%20miguel%20do%20araguaia', 'lagos', 'taylor', 'scharnstein', 'sistranda', 'chapais', 'la%20union', 'belyy%20yar', 'ishigaki', 'kiama', 'sao%20joao%20da%20barra', 'termoli', 'makinsk', 'domoni', 'bloemfontein', 'sharlyk', 'naze', 'havelock', 'paita', 'kousseri', 'udachnyy', 'sangar', 'ouegoa', 'melito%20di%20porto%20salvo', 'kudahuvadhoo', 'viligili', 'terre%20haute', 'sangre%20grande', 'pacific%20grove', 'mirante%20do%20paranapanema', 'batticaloa', 'ust-tsilma', 'paranhos', 'eureka', 'ocos', 'finschhafen', 'cockburn%20town', 'attawapiskat', 'gibsons', 'cabra', 'nishihara', 'agadir', 'vanimo', 'ahlat', 'kattivakkam', 'bara', 'uarini', 'ciudad%20bolivar', 'helong', 'hihifo', 'merauke', 'desert%20hot%20springs', 'yerofey%20pavlovich', 'saint-francois', 'ambilobe', 'hay%20river', 'vangaindrano', 'karratha', 'celestun', 'virginia%20beach']\n"
     ]
    }
   ],
   "source": [
    "print(cities)"
   ]
  },
  {
   "cell_type": "markdown",
   "metadata": {},
   "source": [
    "### Perform API Calls\n",
    "* Perform a weather check on each city using a series of successive API calls.\n",
    "* Include a print log of each city as it'sbeing processed (with the city number and city name).\n"
   ]
  },
  {
   "cell_type": "code",
   "execution_count": 54,
   "metadata": {},
   "outputs": [],
   "source": [
    "\n",
    "# Starting URL for Weather Map API Call\n",
    "url = \"http://api.openweathermap.org/data/2.5/weather?\"\n",
    "units = \"metric\"\n",
    "\n",
    "\n",
    "# URL Query\n",
    "query_url = f\"{url}appid={api_key}&units={units}&q={city}\""
   ]
  },
  {
   "cell_type": "code",
   "execution_count": 57,
   "metadata": {},
   "outputs": [],
   "source": [
    "city = city.replace(\" \", \"%20\")\n",
    "# Lists to hold reponse info\n",
    "city_name =[]\n",
    "cloudiness = []\n",
    "country = []\n",
    "date = []\n",
    "humidity = []\n",
    "lat = []\n",
    "lng = []\n",
    "max_temp =[]\n",
    "wind_speed =[]\n",
    "\n",
    "\n"
   ]
  },
  {
   "cell_type": "code",
   "execution_count": 56,
   "metadata": {},
   "outputs": [
    {
     "name": "stdout",
     "output_type": "stream",
     "text": [
      "Beginning Data Retrieval\n",
      "-------------------------------\n"
     ]
    },
    {
     "ename": "KeyError",
     "evalue": "'clouds'",
     "output_type": "error",
     "traceback": [
      "\u001b[1;31m---------------------------------------------------------------------------\u001b[0m",
      "\u001b[1;31mKeyError\u001b[0m                                  Traceback (most recent call last)",
      "\u001b[1;32m<ipython-input-56-f235a2d2866c>\u001b[0m in \u001b[0;36m<module>\u001b[1;34m\u001b[0m\n\u001b[0;32m      9\u001b[0m \u001b[1;32mfor\u001b[0m \u001b[0mcity\u001b[0m \u001b[1;32min\u001b[0m \u001b[0mcities\u001b[0m\u001b[1;33m:\u001b[0m\u001b[1;33m\u001b[0m\u001b[1;33m\u001b[0m\u001b[0m\n\u001b[0;32m     10\u001b[0m     \u001b[0mresponse\u001b[0m \u001b[1;33m=\u001b[0m \u001b[0mrequests\u001b[0m\u001b[1;33m.\u001b[0m\u001b[0mget\u001b[0m\u001b[1;33m(\u001b[0m\u001b[0mquery_url\u001b[0m \u001b[1;33m+\u001b[0m \u001b[0mcity\u001b[0m\u001b[1;33m)\u001b[0m\u001b[1;33m.\u001b[0m\u001b[0mjson\u001b[0m\u001b[1;33m(\u001b[0m\u001b[1;33m)\u001b[0m\u001b[1;33m\u001b[0m\u001b[1;33m\u001b[0m\u001b[0m\n\u001b[1;32m---> 11\u001b[1;33m     \u001b[0mcloudiness\u001b[0m\u001b[1;33m.\u001b[0m\u001b[0mappend\u001b[0m\u001b[1;33m(\u001b[0m\u001b[0mresponse\u001b[0m\u001b[1;33m[\u001b[0m\u001b[1;34m'clouds'\u001b[0m\u001b[1;33m]\u001b[0m\u001b[1;33m[\u001b[0m\u001b[1;34m'all'\u001b[0m\u001b[1;33m]\u001b[0m\u001b[1;33m)\u001b[0m\u001b[1;33m\u001b[0m\u001b[1;33m\u001b[0m\u001b[0m\n\u001b[0m\u001b[0;32m     12\u001b[0m     \u001b[0mcountry\u001b[0m\u001b[1;33m.\u001b[0m\u001b[0mappend\u001b[0m\u001b[1;33m(\u001b[0m\u001b[0mresponse\u001b[0m\u001b[1;33m[\u001b[0m\u001b[1;34m'sys'\u001b[0m\u001b[1;33m]\u001b[0m\u001b[1;33m[\u001b[0m\u001b[1;34m'country'\u001b[0m\u001b[1;33m]\u001b[0m\u001b[1;33m)\u001b[0m\u001b[1;33m\u001b[0m\u001b[1;33m\u001b[0m\u001b[0m\n\u001b[0;32m     13\u001b[0m     \u001b[0mdate\u001b[0m\u001b[1;33m.\u001b[0m\u001b[0mappend\u001b[0m\u001b[1;33m(\u001b[0m\u001b[0mresponse\u001b[0m\u001b[1;33m[\u001b[0m\u001b[1;34m'dt'\u001b[0m\u001b[1;33m]\u001b[0m\u001b[1;33m)\u001b[0m\u001b[1;33m\u001b[0m\u001b[1;33m\u001b[0m\u001b[0m\n",
      "\u001b[1;31mKeyError\u001b[0m: 'clouds'"
     ]
    }
   ],
   "source": [
    "# Call counter \n",
    "record = 1\n",
    "\n",
    "# Log file print statement\n",
    "print(f\"Beginning Data Retrieval\")\n",
    "print(f\"-------------------------------\")\n",
    "\n",
    "#Loop through the cities in the city list and perform the data request \n",
    "for city in cities:\n",
    "    response = requests.get(query_url + city).json()\n",
    "    cloudiness.append(response['clouds']['all'])\n",
    "    country.append(response['sys']['country'])\n",
    "    date.append(response['dt'])\n",
    "    humidity.append(response['main']['humidity'])\n",
    "    lat.append(response['coord']['lat'])\n",
    "    lng.append(response['coord']['lon'])\n",
    "    max_temp.append(response['main']['temp_max'])\n",
    "    wind_speed.append(response['wind']['speed'])\n",
    "    \n",
    "    \n",
    "# define the counter successive increase\n",
    "records=record+1\n",
    "\n",
    "# where there's no record\n",
    "\n",
    "print(\"City not found. Skipping...\")\n",
    "        \n",
    "\n",
    "        \n",
    "\n",
    "   \n",
    "  \n",
    "\n",
    "        \n",
    "        \n",
    "            \n",
    "        \n",
    "        \n"
   ]
  },
  {
   "cell_type": "markdown",
   "metadata": {},
   "source": [
    "### Convert Raw Data to DataFrame\n",
    "* Export the city data into a .csv.\n",
    "* Display the DataFrame"
   ]
  },
  {
   "cell_type": "code",
   "execution_count": null,
   "metadata": {},
   "outputs": [],
   "source": [
    "# Create a dictonary with the lists generated\n",
    "Output_dict = {\n",
    "    \"City\": city_name,\n",
    "    \"Cloudiness\":cloudiness, \n",
    "    \"Country\":country,\n",
    "    \"Date\":date, \n",
    "    \"Humidity\": humidity,\n",
    "    \"Lat\":lat, \n",
    "    \"Lng\":lng, \n",
    "    \"Max Temp\": max_temp,\n",
    "    \"Wind Speed\":wind_speed\n",
    "}\n",
    "\n",
    "# Create a data frame from dictionary\n",
    "Output_data = pd.DataFrame(output_dict)\n",
    "\n",
    "# Display count of weather data values \n",
    "weather_data.count()"
   ]
  },
  {
   "cell_type": "code",
   "execution_count": null,
   "metadata": {},
   "outputs": [],
   "source": [
    "# Save data frame to CSV\n",
    "Output_data.to_csv('Output_CSV/weather_data.csv')\n",
    "\n",
    "# Display data frame head \n",
    "weather_data.head()"
   ]
  },
  {
   "cell_type": "markdown",
   "metadata": {},
   "source": [
    "### Plotting the Data\n",
    "* Use proper labeling of the plots using plot titles (including date of analysis) and axes labels.\n",
    "* Save the plotted figures as .pngs."
   ]
  },
  {
   "cell_type": "markdown",
   "metadata": {},
   "source": [
    "#### Latitude vs. Temperature Plot"
   ]
  },
  {
   "cell_type": "code",
   "execution_count": null,
   "metadata": {},
   "outputs": [],
   "source": [
    "# A scatter plot\n",
    "plt.scatter(output_data[\"Lat\"], output_data[\"Max Temp\"], marker=\"o\", s=10)\n",
    "\n",
    "# Graph properties\n",
    "plt.title(\"City Latitude vs. Max Temperature\")\n",
    "plt.ylabel(\"Max. Temperature (F)\")\n",
    "plt.xlabel(\"Latitude\")\n",
    "plt.grid(True)\n",
    "\n",
    "# Save the figure\n",
    "plt.savefig(\"CityLatitudevsMaxTemperature.png\")\n",
    "\n",
    "# Show plot\n",
    "plt.show()"
   ]
  },
  {
   "cell_type": "markdown",
   "metadata": {},
   "source": [
    "#### Latitude vs. Humidity Plot"
   ]
  },
  {
   "cell_type": "code",
   "execution_count": null,
   "metadata": {},
   "outputs": [],
   "source": [
    "# A scatter plot\n",
    "plt.scatter(output_data[\"Lat\"], output_data[\"Humidity\"], marker=\"o\", s=10)\n",
    "\n",
    "# Graph properties\n",
    "plt.title(\"City Latitude vs. Humidity\")\n",
    "plt.ylabel(\"Humidity (%)\")\n",
    "plt.xlabel(\"Latitude\")\n",
    "plt.grid(True)\n",
    "\n",
    "# Save the figure\n",
    "plt.savefig(\"CityLatitudevsHumidity.png\")\n",
    "\n",
    "# Show plot\n",
    "plt.show()"
   ]
  },
  {
   "cell_type": "markdown",
   "metadata": {},
   "source": [
    "#### Latitude vs. Cloudiness Plot"
   ]
  },
  {
   "cell_type": "code",
   "execution_count": null,
   "metadata": {},
   "outputs": [],
   "source": [
    "# A scatter plot\n",
    "plt.scatter(output_data[\"Lat\"], output_data[\"Cloudiness\"], marker=\"o\", s=10)\n",
    "\n",
    "# Graph properties\n",
    "plt.title(\"City Latitude vs. Cloudiness\")\n",
    "plt.ylabel(\"Cloudiness (%)\")\n",
    "plt.xlabel(\"Latitude\")\n",
    "plt.grid(True)\n",
    "\n",
    "# Save the figure\n",
    "plt.savefig(\"CityLatitudevsCloudiness.png\")\n",
    "\n",
    "# Show plot\n",
    "plt.show()"
   ]
  },
  {
   "cell_type": "markdown",
   "metadata": {},
   "source": [
    "#### Latitude vs. Wind Speed Plot"
   ]
  },
  {
   "cell_type": "code",
   "execution_count": null,
   "metadata": {},
   "outputs": [],
   "source": [
    "\n",
    "# A scatter plot\n",
    "plt.scatter(output_data[\"Lat\"], output_data[\"Wind Speed\"], marker=\"o\", s=10)\n",
    "\n",
    "# Graph properties\n",
    "plt.title(\"City Latitude vs. Wind Speed\")\n",
    "plt.ylabel(\"Wind Speed (mph)\")\n",
    "plt.xlabel(\"Latitude\")\n",
    "plt.grid(True)\n",
    "\n",
    "# Save the figure\n",
    "plt.savefig(\"CityLatitudevsWindSpeed.png\")\n",
    "\n",
    "# Show plot\n",
    "plt.show()\n"
   ]
  },
  {
   "cell_type": "code",
   "execution_count": null,
   "metadata": {},
   "outputs": [],
   "source": []
  }
 ],
 "metadata": {
  "anaconda-cloud": {},
  "kernel_info": {
   "name": "python3"
  },
  "kernelspec": {
   "display_name": "Python 3",
   "language": "python",
   "name": "python3"
  },
  "language_info": {
   "codemirror_mode": {
    "name": "ipython",
    "version": 3
   },
   "file_extension": ".py",
   "mimetype": "text/x-python",
   "name": "python",
   "nbconvert_exporter": "python",
   "pygments_lexer": "ipython3",
   "version": "3.7.4"
  },
  "nteract": {
   "version": "0.12.3"
  }
 },
 "nbformat": 4,
 "nbformat_minor": 2
}
